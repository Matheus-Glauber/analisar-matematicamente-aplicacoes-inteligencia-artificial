{
 "cells": [
  {
   "cell_type": "markdown",
   "id": "bee89013",
   "metadata": {},
   "source": [
    "# Importação de Bibliotecas\n",
    "\n",
    "Vamos começar importando a biblioteca **pandas**, que é uma das principais ferramentas para análise e manipulação de dados em Python. O pandas fornece estruturas de dados flexíveis e eficientes, principalmente DataFrames, que nos permitem trabalhar com dados tabulares de forma similar a planilhas ou bancos de dados."
   ]
  },
  {
   "cell_type": "code",
   "execution_count": 3,
   "id": "8dacbeab",
   "metadata": {},
   "outputs": [],
   "source": [
    "import pandas as pd"
   ]
  },
  {
   "cell_type": "markdown",
   "id": "4e5469c7",
   "metadata": {},
   "source": [
    "# Carregamento e Primeiras Visualizações dos Dados\n",
    "\n",
    "## Leitura do Dataset do Titanic\n",
    "\n",
    "A função `pd.read_csv()` é utilizada para carregar dados de um arquivo CSV (Comma Separated Values) em um DataFrame do pandas. Estamos carregando o famoso dataset do Titanic, que contém informações sobre os passageiros do navio Titanic.\n",
    "\n",
    "O método `head(3)` exibe as **primeiras 3 linhas** do dataset, permitindo uma visualização inicial da estrutura dos dados e dos tipos de informações disponíveis."
   ]
  },
  {
   "cell_type": "code",
   "execution_count": 6,
   "id": "0dcf0660",
   "metadata": {},
   "outputs": [
    {
     "data": {
      "text/html": [
       "<div>\n",
       "<style scoped>\n",
       "    .dataframe tbody tr th:only-of-type {\n",
       "        vertical-align: middle;\n",
       "    }\n",
       "\n",
       "    .dataframe tbody tr th {\n",
       "        vertical-align: top;\n",
       "    }\n",
       "\n",
       "    .dataframe thead th {\n",
       "        text-align: right;\n",
       "    }\n",
       "</style>\n",
       "<table border=\"1\" class=\"dataframe\">\n",
       "  <thead>\n",
       "    <tr style=\"text-align: right;\">\n",
       "      <th></th>\n",
       "      <th>PassengerId</th>\n",
       "      <th>Survived</th>\n",
       "      <th>Pclass</th>\n",
       "      <th>Name</th>\n",
       "      <th>Sex</th>\n",
       "      <th>Age</th>\n",
       "      <th>SibSp</th>\n",
       "      <th>Parch</th>\n",
       "      <th>Ticket</th>\n",
       "      <th>Fare</th>\n",
       "      <th>Cabin</th>\n",
       "      <th>Embarked</th>\n",
       "    </tr>\n",
       "  </thead>\n",
       "  <tbody>\n",
       "    <tr>\n",
       "      <th>0</th>\n",
       "      <td>1</td>\n",
       "      <td>0</td>\n",
       "      <td>3</td>\n",
       "      <td>Braund, Mr. Owen Harris</td>\n",
       "      <td>male</td>\n",
       "      <td>22.0</td>\n",
       "      <td>1</td>\n",
       "      <td>0</td>\n",
       "      <td>A/5 21171</td>\n",
       "      <td>7.2500</td>\n",
       "      <td>NaN</td>\n",
       "      <td>S</td>\n",
       "    </tr>\n",
       "    <tr>\n",
       "      <th>1</th>\n",
       "      <td>2</td>\n",
       "      <td>1</td>\n",
       "      <td>1</td>\n",
       "      <td>Cumings, Mrs. John Bradley (Florence Briggs Th...</td>\n",
       "      <td>female</td>\n",
       "      <td>38.0</td>\n",
       "      <td>1</td>\n",
       "      <td>0</td>\n",
       "      <td>PC 17599</td>\n",
       "      <td>71.2833</td>\n",
       "      <td>C85</td>\n",
       "      <td>C</td>\n",
       "    </tr>\n",
       "    <tr>\n",
       "      <th>2</th>\n",
       "      <td>3</td>\n",
       "      <td>1</td>\n",
       "      <td>3</td>\n",
       "      <td>Heikkinen, Miss Laina</td>\n",
       "      <td>female</td>\n",
       "      <td>26.0</td>\n",
       "      <td>0</td>\n",
       "      <td>0</td>\n",
       "      <td>STON/O2. 3101282</td>\n",
       "      <td>7.9250</td>\n",
       "      <td>NaN</td>\n",
       "      <td>S</td>\n",
       "    </tr>\n",
       "  </tbody>\n",
       "</table>\n",
       "</div>"
      ],
      "text/plain": [
       "   PassengerId  Survived  Pclass  \\\n",
       "0            1         0       3   \n",
       "1            2         1       1   \n",
       "2            3         1       3   \n",
       "\n",
       "                                                Name     Sex   Age  SibSp  \\\n",
       "0                            Braund, Mr. Owen Harris    male  22.0      1   \n",
       "1  Cumings, Mrs. John Bradley (Florence Briggs Th...  female  38.0      1   \n",
       "2                              Heikkinen, Miss Laina  female  26.0      0   \n",
       "\n",
       "   Parch            Ticket     Fare Cabin Embarked  \n",
       "0      0         A/5 21171   7.2500   NaN        S  \n",
       "1      0          PC 17599  71.2833   C85        C  \n",
       "2      0  STON/O2. 3101282   7.9250   NaN        S  "
      ]
     },
     "execution_count": 6,
     "metadata": {},
     "output_type": "execute_result"
    }
   ],
   "source": [
    "data = pd.read_csv('data/titanic.csv')\n",
    "\n",
    "data.head(3)"
   ]
  },
  {
   "cell_type": "markdown",
   "id": "a5a82f89",
   "metadata": {},
   "source": [
    "## Visualização das Últimas Linhas\n",
    "\n",
    "O método `tail(3)` exibe as **últimas 3 linhas** do dataset. Isso é útil para:\n",
    "- Verificar se os dados foram carregados completamente\n",
    "- Observar se há padrões diferentes no final do dataset\n",
    "- Confirmar a consistência dos dados em diferentes partes do arquivo"
   ]
  },
  {
   "cell_type": "code",
   "execution_count": 8,
   "id": "4fea41e1",
   "metadata": {},
   "outputs": [
    {
     "data": {
      "text/html": [
       "<div>\n",
       "<style scoped>\n",
       "    .dataframe tbody tr th:only-of-type {\n",
       "        vertical-align: middle;\n",
       "    }\n",
       "\n",
       "    .dataframe tbody tr th {\n",
       "        vertical-align: top;\n",
       "    }\n",
       "\n",
       "    .dataframe thead th {\n",
       "        text-align: right;\n",
       "    }\n",
       "</style>\n",
       "<table border=\"1\" class=\"dataframe\">\n",
       "  <thead>\n",
       "    <tr style=\"text-align: right;\">\n",
       "      <th></th>\n",
       "      <th>PassengerId</th>\n",
       "      <th>Survived</th>\n",
       "      <th>Pclass</th>\n",
       "      <th>Name</th>\n",
       "      <th>Sex</th>\n",
       "      <th>Age</th>\n",
       "      <th>SibSp</th>\n",
       "      <th>Parch</th>\n",
       "      <th>Ticket</th>\n",
       "      <th>Fare</th>\n",
       "      <th>Cabin</th>\n",
       "      <th>Embarked</th>\n",
       "    </tr>\n",
       "  </thead>\n",
       "  <tbody>\n",
       "    <tr>\n",
       "      <th>888</th>\n",
       "      <td>889</td>\n",
       "      <td>0</td>\n",
       "      <td>3</td>\n",
       "      <td>Johnston, Miss Catherine Helen \"Carrie\"</td>\n",
       "      <td>female</td>\n",
       "      <td>NaN</td>\n",
       "      <td>1</td>\n",
       "      <td>2</td>\n",
       "      <td>W./C. 6607</td>\n",
       "      <td>23.45</td>\n",
       "      <td>NaN</td>\n",
       "      <td>S</td>\n",
       "    </tr>\n",
       "    <tr>\n",
       "      <th>889</th>\n",
       "      <td>890</td>\n",
       "      <td>1</td>\n",
       "      <td>1</td>\n",
       "      <td>Behr, Mr. Karl Howell</td>\n",
       "      <td>male</td>\n",
       "      <td>26.0</td>\n",
       "      <td>0</td>\n",
       "      <td>0</td>\n",
       "      <td>111369</td>\n",
       "      <td>30.00</td>\n",
       "      <td>C148</td>\n",
       "      <td>C</td>\n",
       "    </tr>\n",
       "    <tr>\n",
       "      <th>890</th>\n",
       "      <td>891</td>\n",
       "      <td>0</td>\n",
       "      <td>3</td>\n",
       "      <td>Dooley, Mr. Patrick</td>\n",
       "      <td>male</td>\n",
       "      <td>32.0</td>\n",
       "      <td>0</td>\n",
       "      <td>0</td>\n",
       "      <td>370376</td>\n",
       "      <td>7.75</td>\n",
       "      <td>NaN</td>\n",
       "      <td>Q</td>\n",
       "    </tr>\n",
       "  </tbody>\n",
       "</table>\n",
       "</div>"
      ],
      "text/plain": [
       "     PassengerId  Survived  Pclass                                     Name  \\\n",
       "888          889         0       3  Johnston, Miss Catherine Helen \"Carrie\"   \n",
       "889          890         1       1                    Behr, Mr. Karl Howell   \n",
       "890          891         0       3                      Dooley, Mr. Patrick   \n",
       "\n",
       "        Sex   Age  SibSp  Parch      Ticket   Fare Cabin Embarked  \n",
       "888  female   NaN      1      2  W./C. 6607  23.45   NaN        S  \n",
       "889    male  26.0      0      0      111369  30.00  C148        C  \n",
       "890    male  32.0      0      0      370376   7.75   NaN        Q  "
      ]
     },
     "execution_count": 8,
     "metadata": {},
     "output_type": "execute_result"
    }
   ],
   "source": [
    "data.tail(3)"
   ]
  },
  {
   "cell_type": "markdown",
   "id": "8890bf40",
   "metadata": {},
   "source": [
    "## Informações Estruturais do Dataset\n",
    "\n",
    "O método `info()` fornece um **resumo abrangente** da estrutura do DataFrame:\n",
    "- **Número total de linhas e colunas**\n",
    "- **Nome de cada coluna**\n",
    "- **Quantidade de valores não nulos** em cada coluna (útil para identificar dados faltantes)\n",
    "- **Tipo de dados** de cada coluna (int64, float64, object, etc.)\n",
    "- **Uso de memória** do DataFrame\n",
    "\n",
    "Esta função é essencial para uma análise exploratória inicial, pois revela problemas como valores ausentes e tipos de dados incorretos."
   ]
  },
  {
   "cell_type": "code",
   "execution_count": 7,
   "id": "4733649f",
   "metadata": {},
   "outputs": [
    {
     "name": "stdout",
     "output_type": "stream",
     "text": [
      "<class 'pandas.core.frame.DataFrame'>\n",
      "RangeIndex: 891 entries, 0 to 890\n",
      "Data columns (total 12 columns):\n",
      " #   Column       Non-Null Count  Dtype  \n",
      "---  ------       --------------  -----  \n",
      " 0   PassengerId  891 non-null    int64  \n",
      " 1   Survived     891 non-null    int64  \n",
      " 2   Pclass       891 non-null    int64  \n",
      " 3   Name         891 non-null    object \n",
      " 4   Sex          891 non-null    object \n",
      " 5   Age          714 non-null    float64\n",
      " 6   SibSp        891 non-null    int64  \n",
      " 7   Parch        891 non-null    int64  \n",
      " 8   Ticket       891 non-null    object \n",
      " 9   Fare         891 non-null    float64\n",
      " 10  Cabin        204 non-null    object \n",
      " 11  Embarked     889 non-null    object \n",
      "dtypes: float64(2), int64(5), object(5)\n",
      "memory usage: 83.7+ KB\n"
     ]
    }
   ],
   "source": [
    "data.info()"
   ]
  },
  {
   "cell_type": "markdown",
   "id": "71c0a083",
   "metadata": {},
   "source": [
    "## Estatísticas Descritivas para Dados Numéricos\n",
    "\n",
    "O método `describe()` calcula **estatísticas descritivas** automaticamente para todas as colunas numéricas:\n",
    "- **count**: Número de valores não nulos\n",
    "- **mean**: Média aritmética\n",
    "- **std**: Desvio padrão (medida de dispersão)\n",
    "- **min**: Valor mínimo\n",
    "- **25%**: Primeiro quartil (25% dos dados estão abaixo deste valor)\n",
    "- **50%**: Mediana (segundo quartil)\n",
    "- **75%**: Terceiro quartil (75% dos dados estão abaixo deste valor)\n",
    "- **max**: Valor máximo\n",
    "\n",
    "Essas estatísticas fornecem uma visão geral da distribuição e características dos dados numéricos."
   ]
  },
  {
   "cell_type": "code",
   "execution_count": 10,
   "id": "4ce79512",
   "metadata": {},
   "outputs": [
    {
     "data": {
      "text/html": [
       "<div>\n",
       "<style scoped>\n",
       "    .dataframe tbody tr th:only-of-type {\n",
       "        vertical-align: middle;\n",
       "    }\n",
       "\n",
       "    .dataframe tbody tr th {\n",
       "        vertical-align: top;\n",
       "    }\n",
       "\n",
       "    .dataframe thead th {\n",
       "        text-align: right;\n",
       "    }\n",
       "</style>\n",
       "<table border=\"1\" class=\"dataframe\">\n",
       "  <thead>\n",
       "    <tr style=\"text-align: right;\">\n",
       "      <th></th>\n",
       "      <th>PassengerId</th>\n",
       "      <th>Survived</th>\n",
       "      <th>Pclass</th>\n",
       "      <th>Age</th>\n",
       "      <th>SibSp</th>\n",
       "      <th>Parch</th>\n",
       "      <th>Fare</th>\n",
       "    </tr>\n",
       "  </thead>\n",
       "  <tbody>\n",
       "    <tr>\n",
       "      <th>count</th>\n",
       "      <td>891.000000</td>\n",
       "      <td>891.000000</td>\n",
       "      <td>891.000000</td>\n",
       "      <td>714.000000</td>\n",
       "      <td>891.000000</td>\n",
       "      <td>891.000000</td>\n",
       "      <td>891.000000</td>\n",
       "    </tr>\n",
       "    <tr>\n",
       "      <th>mean</th>\n",
       "      <td>446.000000</td>\n",
       "      <td>0.383838</td>\n",
       "      <td>2.308642</td>\n",
       "      <td>29.699118</td>\n",
       "      <td>0.523008</td>\n",
       "      <td>0.381594</td>\n",
       "      <td>32.204208</td>\n",
       "    </tr>\n",
       "    <tr>\n",
       "      <th>std</th>\n",
       "      <td>257.353842</td>\n",
       "      <td>0.486592</td>\n",
       "      <td>0.836071</td>\n",
       "      <td>14.526497</td>\n",
       "      <td>1.102743</td>\n",
       "      <td>0.806057</td>\n",
       "      <td>49.693429</td>\n",
       "    </tr>\n",
       "    <tr>\n",
       "      <th>min</th>\n",
       "      <td>1.000000</td>\n",
       "      <td>0.000000</td>\n",
       "      <td>1.000000</td>\n",
       "      <td>0.420000</td>\n",
       "      <td>0.000000</td>\n",
       "      <td>0.000000</td>\n",
       "      <td>0.000000</td>\n",
       "    </tr>\n",
       "    <tr>\n",
       "      <th>25%</th>\n",
       "      <td>223.500000</td>\n",
       "      <td>0.000000</td>\n",
       "      <td>2.000000</td>\n",
       "      <td>20.125000</td>\n",
       "      <td>0.000000</td>\n",
       "      <td>0.000000</td>\n",
       "      <td>7.910400</td>\n",
       "    </tr>\n",
       "    <tr>\n",
       "      <th>50%</th>\n",
       "      <td>446.000000</td>\n",
       "      <td>0.000000</td>\n",
       "      <td>3.000000</td>\n",
       "      <td>28.000000</td>\n",
       "      <td>0.000000</td>\n",
       "      <td>0.000000</td>\n",
       "      <td>14.454200</td>\n",
       "    </tr>\n",
       "    <tr>\n",
       "      <th>75%</th>\n",
       "      <td>668.500000</td>\n",
       "      <td>1.000000</td>\n",
       "      <td>3.000000</td>\n",
       "      <td>38.000000</td>\n",
       "      <td>1.000000</td>\n",
       "      <td>0.000000</td>\n",
       "      <td>31.000000</td>\n",
       "    </tr>\n",
       "    <tr>\n",
       "      <th>max</th>\n",
       "      <td>891.000000</td>\n",
       "      <td>1.000000</td>\n",
       "      <td>3.000000</td>\n",
       "      <td>80.000000</td>\n",
       "      <td>8.000000</td>\n",
       "      <td>6.000000</td>\n",
       "      <td>512.329200</td>\n",
       "    </tr>\n",
       "  </tbody>\n",
       "</table>\n",
       "</div>"
      ],
      "text/plain": [
       "       PassengerId    Survived      Pclass         Age       SibSp  \\\n",
       "count   891.000000  891.000000  891.000000  714.000000  891.000000   \n",
       "mean    446.000000    0.383838    2.308642   29.699118    0.523008   \n",
       "std     257.353842    0.486592    0.836071   14.526497    1.102743   \n",
       "min       1.000000    0.000000    1.000000    0.420000    0.000000   \n",
       "25%     223.500000    0.000000    2.000000   20.125000    0.000000   \n",
       "50%     446.000000    0.000000    3.000000   28.000000    0.000000   \n",
       "75%     668.500000    1.000000    3.000000   38.000000    1.000000   \n",
       "max     891.000000    1.000000    3.000000   80.000000    8.000000   \n",
       "\n",
       "            Parch        Fare  \n",
       "count  891.000000  891.000000  \n",
       "mean     0.381594   32.204208  \n",
       "std      0.806057   49.693429  \n",
       "min      0.000000    0.000000  \n",
       "25%      0.000000    7.910400  \n",
       "50%      0.000000   14.454200  \n",
       "75%      0.000000   31.000000  \n",
       "max      6.000000  512.329200  "
      ]
     },
     "execution_count": 10,
     "metadata": {},
     "output_type": "execute_result"
    }
   ],
   "source": [
    "data.describe()"
   ]
  },
  {
   "cell_type": "markdown",
   "id": "05b05718",
   "metadata": {},
   "source": [
    "## Estatísticas Descritivas para Dados Categóricos\n",
    "\n",
    "O método `describe(include='O')` calcula estatísticas específicas para colunas de **dados categóricos** (tipo 'object'):\n",
    "- **count**: Número total de valores não nulos\n",
    "- **unique**: Número de valores únicos/distintos\n",
    "- **top**: Valor mais frequente (moda)\n",
    "- **freq**: Frequência do valor mais comum\n",
    "\n",
    "O parâmetro `include='O'` especifica que queremos incluir apenas colunas do tipo 'object', que geralmente contêm dados textuais ou categóricos."
   ]
  },
  {
   "cell_type": "code",
   "execution_count": 16,
   "id": "2724b3d9",
   "metadata": {},
   "outputs": [
    {
     "data": {
      "text/html": [
       "<div>\n",
       "<style scoped>\n",
       "    .dataframe tbody tr th:only-of-type {\n",
       "        vertical-align: middle;\n",
       "    }\n",
       "\n",
       "    .dataframe tbody tr th {\n",
       "        vertical-align: top;\n",
       "    }\n",
       "\n",
       "    .dataframe thead th {\n",
       "        text-align: right;\n",
       "    }\n",
       "</style>\n",
       "<table border=\"1\" class=\"dataframe\">\n",
       "  <thead>\n",
       "    <tr style=\"text-align: right;\">\n",
       "      <th></th>\n",
       "      <th>Name</th>\n",
       "      <th>Sex</th>\n",
       "      <th>Ticket</th>\n",
       "      <th>Cabin</th>\n",
       "      <th>Embarked</th>\n",
       "    </tr>\n",
       "  </thead>\n",
       "  <tbody>\n",
       "    <tr>\n",
       "      <th>count</th>\n",
       "      <td>891</td>\n",
       "      <td>891</td>\n",
       "      <td>891</td>\n",
       "      <td>204</td>\n",
       "      <td>889</td>\n",
       "    </tr>\n",
       "    <tr>\n",
       "      <th>unique</th>\n",
       "      <td>891</td>\n",
       "      <td>2</td>\n",
       "      <td>681</td>\n",
       "      <td>147</td>\n",
       "      <td>3</td>\n",
       "    </tr>\n",
       "    <tr>\n",
       "      <th>top</th>\n",
       "      <td>Braund, Mr. Owen Harris</td>\n",
       "      <td>male</td>\n",
       "      <td>347082</td>\n",
       "      <td>B96 B98</td>\n",
       "      <td>S</td>\n",
       "    </tr>\n",
       "    <tr>\n",
       "      <th>freq</th>\n",
       "      <td>1</td>\n",
       "      <td>577</td>\n",
       "      <td>7</td>\n",
       "      <td>4</td>\n",
       "      <td>644</td>\n",
       "    </tr>\n",
       "  </tbody>\n",
       "</table>\n",
       "</div>"
      ],
      "text/plain": [
       "                           Name   Sex  Ticket    Cabin Embarked\n",
       "count                       891   891     891      204      889\n",
       "unique                      891     2     681      147        3\n",
       "top     Braund, Mr. Owen Harris  male  347082  B96 B98        S\n",
       "freq                          1   577       7        4      644"
      ]
     },
     "execution_count": 16,
     "metadata": {},
     "output_type": "execute_result"
    }
   ],
   "source": [
    "data.describe(include='O')"
   ]
  },
  {
   "cell_type": "markdown",
   "id": "9e04998b",
   "metadata": {},
   "source": [
    "# Manipulação e Renomeação de Colunas\n",
    "\n",
    "## Renomeação Individual de Coluna\n",
    "\n",
    "O método `rename()` permite **renomear colunas específicas** do DataFrame:\n",
    "- O primeiro parâmetro é um dicionário onde a chave é o nome atual e o valor é o novo nome\n",
    "- `axis=1` especifica que estamos renomeando colunas (não linhas)\n",
    "- `inplace=True` faz a modificação diretamente no DataFrame original, sem criar uma cópia\n",
    "\n",
    "Aqui estamos renomeando a coluna 'Name' para 'Nome' (traduzindo para português)."
   ]
  },
  {
   "cell_type": "code",
   "execution_count": 20,
   "id": "0e0ef0ae",
   "metadata": {},
   "outputs": [
    {
     "data": {
      "text/html": [
       "<div>\n",
       "<style scoped>\n",
       "    .dataframe tbody tr th:only-of-type {\n",
       "        vertical-align: middle;\n",
       "    }\n",
       "\n",
       "    .dataframe tbody tr th {\n",
       "        vertical-align: top;\n",
       "    }\n",
       "\n",
       "    .dataframe thead th {\n",
       "        text-align: right;\n",
       "    }\n",
       "</style>\n",
       "<table border=\"1\" class=\"dataframe\">\n",
       "  <thead>\n",
       "    <tr style=\"text-align: right;\">\n",
       "      <th></th>\n",
       "      <th>PassengerId</th>\n",
       "      <th>Survived</th>\n",
       "      <th>Pclass</th>\n",
       "      <th>Nome</th>\n",
       "      <th>Sex</th>\n",
       "      <th>Age</th>\n",
       "      <th>SibSp</th>\n",
       "      <th>Parch</th>\n",
       "      <th>Ticket</th>\n",
       "      <th>Fare</th>\n",
       "      <th>Cabin</th>\n",
       "      <th>Embarked</th>\n",
       "    </tr>\n",
       "  </thead>\n",
       "  <tbody>\n",
       "    <tr>\n",
       "      <th>0</th>\n",
       "      <td>1</td>\n",
       "      <td>0</td>\n",
       "      <td>3</td>\n",
       "      <td>Braund, Mr. Owen Harris</td>\n",
       "      <td>male</td>\n",
       "      <td>22.0</td>\n",
       "      <td>1</td>\n",
       "      <td>0</td>\n",
       "      <td>A/5 21171</td>\n",
       "      <td>7.2500</td>\n",
       "      <td>NaN</td>\n",
       "      <td>S</td>\n",
       "    </tr>\n",
       "    <tr>\n",
       "      <th>1</th>\n",
       "      <td>2</td>\n",
       "      <td>1</td>\n",
       "      <td>1</td>\n",
       "      <td>Cumings, Mrs. John Bradley (Florence Briggs Th...</td>\n",
       "      <td>female</td>\n",
       "      <td>38.0</td>\n",
       "      <td>1</td>\n",
       "      <td>0</td>\n",
       "      <td>PC 17599</td>\n",
       "      <td>71.2833</td>\n",
       "      <td>C85</td>\n",
       "      <td>C</td>\n",
       "    </tr>\n",
       "    <tr>\n",
       "      <th>2</th>\n",
       "      <td>3</td>\n",
       "      <td>1</td>\n",
       "      <td>3</td>\n",
       "      <td>Heikkinen, Miss Laina</td>\n",
       "      <td>female</td>\n",
       "      <td>26.0</td>\n",
       "      <td>0</td>\n",
       "      <td>0</td>\n",
       "      <td>STON/O2. 3101282</td>\n",
       "      <td>7.9250</td>\n",
       "      <td>NaN</td>\n",
       "      <td>S</td>\n",
       "    </tr>\n",
       "    <tr>\n",
       "      <th>3</th>\n",
       "      <td>4</td>\n",
       "      <td>1</td>\n",
       "      <td>1</td>\n",
       "      <td>Futrelle, Mrs. Jacques Heath (Lily May Peel)</td>\n",
       "      <td>female</td>\n",
       "      <td>35.0</td>\n",
       "      <td>1</td>\n",
       "      <td>0</td>\n",
       "      <td>113803</td>\n",
       "      <td>53.1000</td>\n",
       "      <td>C123</td>\n",
       "      <td>S</td>\n",
       "    </tr>\n",
       "    <tr>\n",
       "      <th>4</th>\n",
       "      <td>5</td>\n",
       "      <td>0</td>\n",
       "      <td>3</td>\n",
       "      <td>Allen, Mr. William Henry</td>\n",
       "      <td>male</td>\n",
       "      <td>35.0</td>\n",
       "      <td>0</td>\n",
       "      <td>0</td>\n",
       "      <td>373450</td>\n",
       "      <td>8.0500</td>\n",
       "      <td>NaN</td>\n",
       "      <td>S</td>\n",
       "    </tr>\n",
       "  </tbody>\n",
       "</table>\n",
       "</div>"
      ],
      "text/plain": [
       "   PassengerId  Survived  Pclass  \\\n",
       "0            1         0       3   \n",
       "1            2         1       1   \n",
       "2            3         1       3   \n",
       "3            4         1       1   \n",
       "4            5         0       3   \n",
       "\n",
       "                                                Nome     Sex   Age  SibSp  \\\n",
       "0                            Braund, Mr. Owen Harris    male  22.0      1   \n",
       "1  Cumings, Mrs. John Bradley (Florence Briggs Th...  female  38.0      1   \n",
       "2                              Heikkinen, Miss Laina  female  26.0      0   \n",
       "3       Futrelle, Mrs. Jacques Heath (Lily May Peel)  female  35.0      1   \n",
       "4                           Allen, Mr. William Henry    male  35.0      0   \n",
       "\n",
       "   Parch            Ticket     Fare Cabin Embarked  \n",
       "0      0         A/5 21171   7.2500   NaN        S  \n",
       "1      0          PC 17599  71.2833   C85        C  \n",
       "2      0  STON/O2. 3101282   7.9250   NaN        S  \n",
       "3      0            113803  53.1000  C123        S  \n",
       "4      0            373450   8.0500   NaN        S  "
      ]
     },
     "execution_count": 20,
     "metadata": {},
     "output_type": "execute_result"
    }
   ],
   "source": [
    "data.rename({'Name': 'Nome'}, axis=1, inplace=True)\n",
    "\n",
    "data.head()"
   ]
  },
  {
   "cell_type": "markdown",
   "id": "0f64ad71",
   "metadata": {},
   "source": [
    "## Visualização dos Nomes das Colunas\n",
    "\n",
    "A propriedade `columns` retorna um **Index object** contendo todos os nomes das colunas do DataFrame. Isso é útil para:\n",
    "- Verificar os nomes atuais das colunas\n",
    "- Confirmar se as renomeações foram aplicadas corretamente\n",
    "- Planejar futuras modificações nos nomes das colunas"
   ]
  },
  {
   "cell_type": "code",
   "execution_count": 21,
   "id": "427fb55d",
   "metadata": {},
   "outputs": [
    {
     "data": {
      "text/plain": [
       "Index(['PassengerId', 'Survived', 'Pclass', 'Nome', 'Sex', 'Age', 'SibSp',\n",
       "       'Parch', 'Ticket', 'Fare', 'Cabin', 'Embarked'],\n",
       "      dtype='object')"
      ]
     },
     "execution_count": 21,
     "metadata": {},
     "output_type": "execute_result"
    }
   ],
   "source": [
    "data.columns"
   ]
  },
  {
   "cell_type": "markdown",
   "id": "263bb108",
   "metadata": {},
   "source": [
    "## Renomeação Completa das Colunas\n",
    "\n",
    "Aqui fazemos uma **renomeação completa** de todas as colunas, atribuindo uma nova lista de nomes em português:\n",
    "- `IdPassageiro`: ID único do passageiro\n",
    "- `Sobreviventes`: Indica se sobreviveu (1) ou não (0)\n",
    "- `Classe`: Classe do bilhete (1ª, 2ª ou 3ª classe)\n",
    "- `Nome`: Nome completo do passageiro\n",
    "- `Sexo`: Gênero do passageiro\n",
    "- `Idade`: Idade em anos\n",
    "- `IrmaoConjuge`: Número de irmãos/cônjuges a bordo\n",
    "- `PaisFilhos`: Número de pais/filhos a bordo\n",
    "- `Bilhete`: Número do bilhete\n",
    "- `Tarifa`: Preço pago pela passagem\n",
    "- `Cabine`: Número da cabine\n",
    "- `Embarque`: Porto de embarque"
   ]
  },
  {
   "cell_type": "code",
   "execution_count": 22,
   "id": "a1ea4e3e",
   "metadata": {},
   "outputs": [
    {
     "data": {
      "text/html": [
       "<div>\n",
       "<style scoped>\n",
       "    .dataframe tbody tr th:only-of-type {\n",
       "        vertical-align: middle;\n",
       "    }\n",
       "\n",
       "    .dataframe tbody tr th {\n",
       "        vertical-align: top;\n",
       "    }\n",
       "\n",
       "    .dataframe thead th {\n",
       "        text-align: right;\n",
       "    }\n",
       "</style>\n",
       "<table border=\"1\" class=\"dataframe\">\n",
       "  <thead>\n",
       "    <tr style=\"text-align: right;\">\n",
       "      <th></th>\n",
       "      <th>IdPassageiro</th>\n",
       "      <th>Sobreviventes</th>\n",
       "      <th>Classe</th>\n",
       "      <th>Nome</th>\n",
       "      <th>Sexo</th>\n",
       "      <th>Idade</th>\n",
       "      <th>IrmaoConjuge</th>\n",
       "      <th>PaisFilhos</th>\n",
       "      <th>Bilhete</th>\n",
       "      <th>Tarifa</th>\n",
       "      <th>Cabine</th>\n",
       "      <th>Embarque</th>\n",
       "    </tr>\n",
       "  </thead>\n",
       "  <tbody>\n",
       "    <tr>\n",
       "      <th>0</th>\n",
       "      <td>1</td>\n",
       "      <td>0</td>\n",
       "      <td>3</td>\n",
       "      <td>Braund, Mr. Owen Harris</td>\n",
       "      <td>male</td>\n",
       "      <td>22.0</td>\n",
       "      <td>1</td>\n",
       "      <td>0</td>\n",
       "      <td>A/5 21171</td>\n",
       "      <td>7.2500</td>\n",
       "      <td>NaN</td>\n",
       "      <td>S</td>\n",
       "    </tr>\n",
       "    <tr>\n",
       "      <th>1</th>\n",
       "      <td>2</td>\n",
       "      <td>1</td>\n",
       "      <td>1</td>\n",
       "      <td>Cumings, Mrs. John Bradley (Florence Briggs Th...</td>\n",
       "      <td>female</td>\n",
       "      <td>38.0</td>\n",
       "      <td>1</td>\n",
       "      <td>0</td>\n",
       "      <td>PC 17599</td>\n",
       "      <td>71.2833</td>\n",
       "      <td>C85</td>\n",
       "      <td>C</td>\n",
       "    </tr>\n",
       "    <tr>\n",
       "      <th>2</th>\n",
       "      <td>3</td>\n",
       "      <td>1</td>\n",
       "      <td>3</td>\n",
       "      <td>Heikkinen, Miss Laina</td>\n",
       "      <td>female</td>\n",
       "      <td>26.0</td>\n",
       "      <td>0</td>\n",
       "      <td>0</td>\n",
       "      <td>STON/O2. 3101282</td>\n",
       "      <td>7.9250</td>\n",
       "      <td>NaN</td>\n",
       "      <td>S</td>\n",
       "    </tr>\n",
       "    <tr>\n",
       "      <th>3</th>\n",
       "      <td>4</td>\n",
       "      <td>1</td>\n",
       "      <td>1</td>\n",
       "      <td>Futrelle, Mrs. Jacques Heath (Lily May Peel)</td>\n",
       "      <td>female</td>\n",
       "      <td>35.0</td>\n",
       "      <td>1</td>\n",
       "      <td>0</td>\n",
       "      <td>113803</td>\n",
       "      <td>53.1000</td>\n",
       "      <td>C123</td>\n",
       "      <td>S</td>\n",
       "    </tr>\n",
       "    <tr>\n",
       "      <th>4</th>\n",
       "      <td>5</td>\n",
       "      <td>0</td>\n",
       "      <td>3</td>\n",
       "      <td>Allen, Mr. William Henry</td>\n",
       "      <td>male</td>\n",
       "      <td>35.0</td>\n",
       "      <td>0</td>\n",
       "      <td>0</td>\n",
       "      <td>373450</td>\n",
       "      <td>8.0500</td>\n",
       "      <td>NaN</td>\n",
       "      <td>S</td>\n",
       "    </tr>\n",
       "  </tbody>\n",
       "</table>\n",
       "</div>"
      ],
      "text/plain": [
       "   IdPassageiro  Sobreviventes  Classe  \\\n",
       "0             1              0       3   \n",
       "1             2              1       1   \n",
       "2             3              1       3   \n",
       "3             4              1       1   \n",
       "4             5              0       3   \n",
       "\n",
       "                                                Nome    Sexo  Idade  \\\n",
       "0                            Braund, Mr. Owen Harris    male   22.0   \n",
       "1  Cumings, Mrs. John Bradley (Florence Briggs Th...  female   38.0   \n",
       "2                              Heikkinen, Miss Laina  female   26.0   \n",
       "3       Futrelle, Mrs. Jacques Heath (Lily May Peel)  female   35.0   \n",
       "4                           Allen, Mr. William Henry    male   35.0   \n",
       "\n",
       "   IrmaoConjuge  PaisFilhos           Bilhete   Tarifa Cabine Embarque  \n",
       "0             1           0         A/5 21171   7.2500    NaN        S  \n",
       "1             1           0          PC 17599  71.2833    C85        C  \n",
       "2             0           0  STON/O2. 3101282   7.9250    NaN        S  \n",
       "3             1           0            113803  53.1000   C123        S  \n",
       "4             0           0            373450   8.0500    NaN        S  "
      ]
     },
     "execution_count": 22,
     "metadata": {},
     "output_type": "execute_result"
    }
   ],
   "source": [
    "data.columns = ['IdPassageiro', 'Sobreviventes', 'Classe', 'Nome', 'Sexo', 'Idade', 'IrmaoConjuge', 'PaisFilhos', 'Bilhete', 'Tarifa', 'Cabine', 'Embarque']\n",
    "data.head()"
   ]
  },
  {
   "cell_type": "markdown",
   "id": "c406d1b0",
   "metadata": {},
   "source": [
    "# Seleção e Análise de Dados Específicos\n",
    "\n",
    "## Seleção de Múltiplas Colunas\n",
    "\n",
    "A sintaxe `data[['col1', 'col2', 'col3']]` permite **selecionar múltiplas colunas específicas** do DataFrame:\n",
    "- Os colchetes duplos `[[]]` indicam que estamos passando uma lista de nomes de colunas\n",
    "- Retorna um novo DataFrame contendo apenas as colunas especificadas\n",
    "- `head(5)` mostra as primeiras 5 linhas das colunas selecionadas\n",
    "\n",
    "Isso é útil quando queremos focar em um subconjunto específico de dados para análise."
   ]
  },
  {
   "cell_type": "code",
   "execution_count": 23,
   "id": "8e1ef2c8",
   "metadata": {},
   "outputs": [
    {
     "data": {
      "text/html": [
       "<div>\n",
       "<style scoped>\n",
       "    .dataframe tbody tr th:only-of-type {\n",
       "        vertical-align: middle;\n",
       "    }\n",
       "\n",
       "    .dataframe tbody tr th {\n",
       "        vertical-align: top;\n",
       "    }\n",
       "\n",
       "    .dataframe thead th {\n",
       "        text-align: right;\n",
       "    }\n",
       "</style>\n",
       "<table border=\"1\" class=\"dataframe\">\n",
       "  <thead>\n",
       "    <tr style=\"text-align: right;\">\n",
       "      <th></th>\n",
       "      <th>Nome</th>\n",
       "      <th>Sexo</th>\n",
       "      <th>Idade</th>\n",
       "      <th>Tarifa</th>\n",
       "    </tr>\n",
       "  </thead>\n",
       "  <tbody>\n",
       "    <tr>\n",
       "      <th>0</th>\n",
       "      <td>Braund, Mr. Owen Harris</td>\n",
       "      <td>male</td>\n",
       "      <td>22.0</td>\n",
       "      <td>7.2500</td>\n",
       "    </tr>\n",
       "    <tr>\n",
       "      <th>1</th>\n",
       "      <td>Cumings, Mrs. John Bradley (Florence Briggs Th...</td>\n",
       "      <td>female</td>\n",
       "      <td>38.0</td>\n",
       "      <td>71.2833</td>\n",
       "    </tr>\n",
       "    <tr>\n",
       "      <th>2</th>\n",
       "      <td>Heikkinen, Miss Laina</td>\n",
       "      <td>female</td>\n",
       "      <td>26.0</td>\n",
       "      <td>7.9250</td>\n",
       "    </tr>\n",
       "    <tr>\n",
       "      <th>3</th>\n",
       "      <td>Futrelle, Mrs. Jacques Heath (Lily May Peel)</td>\n",
       "      <td>female</td>\n",
       "      <td>35.0</td>\n",
       "      <td>53.1000</td>\n",
       "    </tr>\n",
       "    <tr>\n",
       "      <th>4</th>\n",
       "      <td>Allen, Mr. William Henry</td>\n",
       "      <td>male</td>\n",
       "      <td>35.0</td>\n",
       "      <td>8.0500</td>\n",
       "    </tr>\n",
       "  </tbody>\n",
       "</table>\n",
       "</div>"
      ],
      "text/plain": [
       "                                                Nome    Sexo  Idade   Tarifa\n",
       "0                            Braund, Mr. Owen Harris    male   22.0   7.2500\n",
       "1  Cumings, Mrs. John Bradley (Florence Briggs Th...  female   38.0  71.2833\n",
       "2                              Heikkinen, Miss Laina  female   26.0   7.9250\n",
       "3       Futrelle, Mrs. Jacques Heath (Lily May Peel)  female   35.0  53.1000\n",
       "4                           Allen, Mr. William Henry    male   35.0   8.0500"
      ]
     },
     "execution_count": 23,
     "metadata": {},
     "output_type": "execute_result"
    }
   ],
   "source": [
    "data[['Nome', 'Sexo', 'Idade', 'Tarifa']].head(5)"
   ]
  },
  {
   "cell_type": "markdown",
   "id": "1ad7a6ac",
   "metadata": {},
   "source": [
    "## Seleção de Uma Única Coluna\n",
    "\n",
    "A sintaxe `data['nome_coluna']` seleciona **uma única coluna** e retorna uma **Series** (não um DataFrame):\n",
    "- `head(5)` mostra os primeiros 5 valores da coluna Tarifa\n",
    "- Uma Series é uma estrutura unidimensional do pandas, similar a uma lista ou array\n",
    "- Útil quando queremos trabalhar especificamente com uma variável"
   ]
  },
  {
   "cell_type": "code",
   "execution_count": 27,
   "id": "2d65ce05",
   "metadata": {},
   "outputs": [
    {
     "data": {
      "text/plain": [
       "0     7.2500\n",
       "1    71.2833\n",
       "2     7.9250\n",
       "3    53.1000\n",
       "4     8.0500\n",
       "Name: Tarifa, dtype: float64"
      ]
     },
     "execution_count": 27,
     "metadata": {},
     "output_type": "execute_result"
    }
   ],
   "source": [
    "data['Tarifa'].head(5)"
   ]
  },
  {
   "cell_type": "markdown",
   "id": "4a483415",
   "metadata": {},
   "source": [
    "# Análise Estatística Detalhada da Coluna Idade\n",
    "\n",
    "## Valor Máximo\n",
    "\n",
    "O método `max()` retorna o **maior valor** presente na coluna Idade. Isso nos ajuda a entender:\n",
    "- A faixa etária dos passageiros\n",
    "- Possíveis outliers (valores extremos)\n",
    "- A idade da pessoa mais velha a bordo"
   ]
  },
  {
   "cell_type": "code",
   "execution_count": 28,
   "id": "092b1667",
   "metadata": {},
   "outputs": [
    {
     "data": {
      "text/plain": [
       "np.float64(80.0)"
      ]
     },
     "execution_count": 28,
     "metadata": {},
     "output_type": "execute_result"
    }
   ],
   "source": [
    "data['Idade'].max()"
   ]
  },
  {
   "cell_type": "markdown",
   "id": "d9c26ce7",
   "metadata": {},
   "source": [
    "## Média Aritmética\n",
    "\n",
    "O método `mean()` calcula a **média aritmética** das idades:\n",
    "- Soma todos os valores válidos (não nulos) e divide pela quantidade de valores\n",
    "- Fornece uma medida de tendência central\n",
    "- Útil para entender a idade \"típica\" dos passageiros\n",
    "- Pode ser influenciada por valores extremos (outliers)"
   ]
  },
  {
   "cell_type": "code",
   "execution_count": 29,
   "id": "d1f09001",
   "metadata": {},
   "outputs": [
    {
     "data": {
      "text/plain": [
       "np.float64(29.69911764705882)"
      ]
     },
     "execution_count": 29,
     "metadata": {},
     "output_type": "execute_result"
    }
   ],
   "source": [
    "data['Idade'].mean()"
   ]
  },
  {
   "cell_type": "markdown",
   "id": "1b4b14dc",
   "metadata": {},
   "source": [
    "## Mediana (Valor Central)\n",
    "\n",
    "O método `median()` encontra o **valor central** quando os dados estão ordenados:\n",
    "- Se há um número ímpar de valores, é o valor do meio\n",
    "- Se há um número par de valores, é a média dos dois valores centrais\n",
    "- **Menos sensível a outliers** que a média\n",
    "- Melhor representação da idade \"típica\" quando há valores extremos\n",
    "- 50% dos passageiros têm idade menor que a mediana e 50% têm idade maior"
   ]
  },
  {
   "cell_type": "code",
   "execution_count": 30,
   "id": "5190dc42",
   "metadata": {},
   "outputs": [
    {
     "data": {
      "text/plain": [
       "np.float64(28.0)"
      ]
     },
     "execution_count": 30,
     "metadata": {},
     "output_type": "execute_result"
    }
   ],
   "source": [
    "data['Idade'].median()"
   ]
  },
  {
   "cell_type": "markdown",
   "id": "bfc3c325",
   "metadata": {},
   "source": [
    "## Desvio Padrão (Medida de Dispersão)\n",
    "\n",
    "O método `std()` calcula o **desvio padrão**, que mede a **dispersão** dos dados em relação à média:\n",
    "- Valores baixos indicam que os dados estão próximos da média (pouca variação)\n",
    "- Valores altos indicam que os dados estão espalhados (muita variação)\n",
    "- Expresso na mesma unidade da variável original (anos, neste caso)\n",
    "- Aproximadamente 68% dos valores estão dentro de 1 desvio padrão da média\n",
    "- Útil para entender a variabilidade das idades dos passageiros"
   ]
  },
  {
   "cell_type": "code",
   "execution_count": 31,
   "id": "a55e2db8",
   "metadata": {},
   "outputs": [
    {
     "data": {
      "text/plain": [
       "np.float64(14.526497332334042)"
      ]
     },
     "execution_count": 31,
     "metadata": {},
     "output_type": "execute_result"
    }
   ],
   "source": [
    "data['Idade'].std()"
   ]
  },
  {
   "cell_type": "markdown",
   "id": "17689b5e",
   "metadata": {},
   "source": [
    "## Soma Total\n",
    "\n",
    "O método `sum()` calcula a **soma de todos os valores** válidos (não nulos) da coluna Idade:\n",
    "- Adiciona todas as idades dos passageiros\n",
    "- Ignora valores NaN (Not a Number) ou nulos\n",
    "- Pode ser usado para calcular totais agregados\n",
    "- Útil em combinação com outras estatísticas para cálculos derivados"
   ]
  },
  {
   "cell_type": "code",
   "execution_count": 32,
   "id": "a0f6677a",
   "metadata": {},
   "outputs": [
    {
     "data": {
      "text/plain": [
       "np.float64(21205.17)"
      ]
     },
     "execution_count": 32,
     "metadata": {},
     "output_type": "execute_result"
    }
   ],
   "source": [
    "data['Idade'].sum()"
   ]
  },
  {
   "cell_type": "markdown",
   "id": "91889dfa",
   "metadata": {},
   "source": [
    "## Contagem de Valores Válidos\n",
    "\n",
    "O método `count()` retorna o **número de valores não nulos** na coluna:\n",
    "- Exclui valores NaN, None, ou outros valores ausentes\n",
    "- Diferente de `len()`, que contaria todos os registros incluindo nulos\n",
    "- Essencial para entender a completude dos dados\n",
    "- Ajuda a identificar quantos passageiros têm informação de idade disponível"
   ]
  },
  {
   "cell_type": "code",
   "execution_count": 33,
   "id": "df8cc829",
   "metadata": {},
   "outputs": [
    {
     "data": {
      "text/plain": [
       "np.int64(714)"
      ]
     },
     "execution_count": 33,
     "metadata": {},
     "output_type": "execute_result"
    }
   ],
   "source": [
    "data['Idade'].count()"
   ]
  },
  {
   "cell_type": "markdown",
   "id": "036ce957",
   "metadata": {},
   "source": [
    "## Moda (Valor Mais Frequente)\n",
    "\n",
    "O método `mode()` retorna o(s) **valor(es) mais frequente(s)** na coluna:\n",
    "- Pode retornar múltiplos valores se houver empate na frequência\n",
    "- Retorna uma Series, não um valor único\n",
    "- Útil para identificar a idade mais comum entre os passageiros\n",
    "- Importante para dados categóricos, mas também aplicável a numéricos\n",
    "- Diferente da média e mediana, a moda pode não existir ou pode haver múltiplas modas"
   ]
  },
  {
   "cell_type": "code",
   "execution_count": 34,
   "id": "087b0a08",
   "metadata": {},
   "outputs": [
    {
     "data": {
      "text/plain": [
       "0    24.0\n",
       "Name: Idade, dtype: float64"
      ]
     },
     "execution_count": 34,
     "metadata": {},
     "output_type": "execute_result"
    }
   ],
   "source": [
    "data['Idade'].mode()"
   ]
  },
  {
   "cell_type": "markdown",
   "id": "4940a521",
   "metadata": {},
   "source": [
    "## Valor Mínimo\n",
    "\n",
    "O método `min()` retorna o **menor valor** presente na coluna Idade:\n",
    "- Identifica a idade da pessoa mais nova a bordo\n",
    "- Útil para entender a faixa etária completa\n",
    "- Pode revelar a presença de bebês ou crianças muito pequenas\n",
    "- Complementa o `max()` para definir o intervalo completo dos dados"
   ]
  },
  {
   "cell_type": "code",
   "execution_count": 35,
   "id": "7f2ea1ad",
   "metadata": {},
   "outputs": [
    {
     "data": {
      "text/plain": [
       "np.float64(0.42)"
      ]
     },
     "execution_count": 35,
     "metadata": {},
     "output_type": "execute_result"
    }
   ],
   "source": [
    "data['Idade'].min()"
   ]
  },
  {
   "cell_type": "markdown",
   "id": "f56f1492",
   "metadata": {},
   "source": [
    "## Índice do Valor Mínimo\n",
    "\n",
    "O método `idxmin()` retorna o **índice (posição)** da linha que contém o valor mínimo:\n",
    "- Não retorna o valor em si, mas sim sua localização no DataFrame\n",
    "- Útil para identificar qual passageiro específico tem a menor idade\n",
    "- Permite investigar outras características desse registro\n",
    "- Se houver valores iguais ao mínimo, retorna o índice da primeira ocorrência"
   ]
  },
  {
   "cell_type": "code",
   "execution_count": 36,
   "id": "7941f140",
   "metadata": {},
   "outputs": [
    {
     "data": {
      "text/plain": [
       "803"
      ]
     },
     "execution_count": 36,
     "metadata": {},
     "output_type": "execute_result"
    }
   ],
   "source": [
    "data['Idade'].idxmin()"
   ]
  },
  {
   "cell_type": "markdown",
   "id": "42649ad4",
   "metadata": {},
   "source": [
    "## Índice do Valor Máximo\n",
    "\n",
    "O método `idxmax()` retorna o **índice (posição)** da linha que contém o valor máximo:\n",
    "- Similar ao `idxmin()`, mas para o maior valor\n",
    "- Identifica qual passageiro específico tem a maior idade\n",
    "- Permite análise detalhada do registro com a idade máxima\n",
    "- Se houver múltiplos valores máximos iguais, retorna o índice da primeira ocorrência"
   ]
  },
  {
   "cell_type": "code",
   "execution_count": 37,
   "id": "7597b5e6",
   "metadata": {},
   "outputs": [
    {
     "data": {
      "text/plain": [
       "630"
      ]
     },
     "execution_count": 37,
     "metadata": {},
     "output_type": "execute_result"
    }
   ],
   "source": [
    "data['Idade'].idxmax()"
   ]
  },
  {
   "cell_type": "markdown",
   "id": "ca9b75cf",
   "metadata": {},
   "source": [
    "# Diferença Entre Métodos e Propriedades\n",
    "\n",
    "## Propriedade vs Método - Exemplo com Mean\n",
    "\n",
    "Aqui vemos `data.mean` **sem parênteses**, que retorna um **objeto método**:\n",
    "- Não executa a função, apenas mostra que ela existe\n",
    "- Retorna a referência do método, não o resultado\n",
    "- Para executar e obter o resultado, seria necessário usar `data.mean()`\n",
    "- Útil para entender que mean é um método disponível, mas não calcula nada ainda"
   ]
  },
  {
   "cell_type": "code",
   "execution_count": 39,
   "id": "05beb2df",
   "metadata": {},
   "outputs": [
    {
     "data": {
      "text/plain": [
       "<bound method DataFrame.mean of      IdPassageiro  Sobreviventes  Classe  \\\n",
       "0               1              0       3   \n",
       "1               2              1       1   \n",
       "2               3              1       3   \n",
       "3               4              1       1   \n",
       "4               5              0       3   \n",
       "..            ...            ...     ...   \n",
       "886           887              0       2   \n",
       "887           888              1       1   \n",
       "888           889              0       3   \n",
       "889           890              1       1   \n",
       "890           891              0       3   \n",
       "\n",
       "                                                  Nome    Sexo  Idade  \\\n",
       "0                              Braund, Mr. Owen Harris    male   22.0   \n",
       "1    Cumings, Mrs. John Bradley (Florence Briggs Th...  female   38.0   \n",
       "2                                Heikkinen, Miss Laina  female   26.0   \n",
       "3         Futrelle, Mrs. Jacques Heath (Lily May Peel)  female   35.0   \n",
       "4                             Allen, Mr. William Henry    male   35.0   \n",
       "..                                                 ...     ...    ...   \n",
       "886                              Montvila, Rev. Juozas    male   27.0   \n",
       "887                        Graham, Miss Margaret Edith  female   19.0   \n",
       "888            Johnston, Miss Catherine Helen \"Carrie\"  female    NaN   \n",
       "889                              Behr, Mr. Karl Howell    male   26.0   \n",
       "890                                Dooley, Mr. Patrick    male   32.0   \n",
       "\n",
       "     IrmaoConjuge  PaisFilhos           Bilhete   Tarifa Cabine Embarque  \n",
       "0               1           0         A/5 21171   7.2500    NaN        S  \n",
       "1               1           0          PC 17599  71.2833    C85        C  \n",
       "2               0           0  STON/O2. 3101282   7.9250    NaN        S  \n",
       "3               1           0            113803  53.1000   C123        S  \n",
       "4               0           0            373450   8.0500    NaN        S  \n",
       "..            ...         ...               ...      ...    ...      ...  \n",
       "886             0           0            211536  13.0000    NaN        S  \n",
       "887             0           0            112053  30.0000    B42        S  \n",
       "888             1           2        W./C. 6607  23.4500    NaN        S  \n",
       "889             0           0            111369  30.0000   C148        C  \n",
       "890             0           0            370376   7.7500    NaN        Q  \n",
       "\n",
       "[891 rows x 12 columns]>"
      ]
     },
     "execution_count": 39,
     "metadata": {},
     "output_type": "execute_result"
    }
   ],
   "source": [
    "data.mean"
   ]
  },
  {
   "cell_type": "markdown",
   "id": "6c7dbe50",
   "metadata": {},
   "source": [
    "## Propriedade Sum (Sem Execução)\n",
    "\n",
    "Similarmente, `data.sum` **sem parênteses** mostra apenas a **referência do método**:\n",
    "- Não executa o cálculo da soma\n",
    "- Apenas confirma que o método sum existe e está disponível\n",
    "- Para obter as somas reais seria necessário `data.sum()`\n",
    "- Demonstra a diferença fundamental entre referenciar um método e executá-lo"
   ]
  },
  {
   "cell_type": "code",
   "execution_count": 49,
   "id": "efc88cd4",
   "metadata": {},
   "outputs": [
    {
     "data": {
      "text/plain": [
       "<bound method DataFrame.sum of      IdPassageiro  Sobreviventes  Classe  \\\n",
       "0               1              0       3   \n",
       "1               2              1       1   \n",
       "2               3              1       3   \n",
       "3               4              1       1   \n",
       "4               5              0       3   \n",
       "..            ...            ...     ...   \n",
       "886           887              0       2   \n",
       "887           888              1       1   \n",
       "888           889              0       3   \n",
       "889           890              1       1   \n",
       "890           891              0       3   \n",
       "\n",
       "                                                  Nome    Sexo  Idade  \\\n",
       "0                              Braund, Mr. Owen Harris    male   22.0   \n",
       "1    Cumings, Mrs. John Bradley (Florence Briggs Th...  female   38.0   \n",
       "2                                Heikkinen, Miss Laina  female   26.0   \n",
       "3         Futrelle, Mrs. Jacques Heath (Lily May Peel)  female   35.0   \n",
       "4                             Allen, Mr. William Henry    male   35.0   \n",
       "..                                                 ...     ...    ...   \n",
       "886                              Montvila, Rev. Juozas    male   27.0   \n",
       "887                        Graham, Miss Margaret Edith  female   19.0   \n",
       "888            Johnston, Miss Catherine Helen \"Carrie\"  female    NaN   \n",
       "889                              Behr, Mr. Karl Howell    male   26.0   \n",
       "890                                Dooley, Mr. Patrick    male   32.0   \n",
       "\n",
       "     IrmaoConjuge  PaisFilhos           Bilhete   Tarifa Cabine Embarque  \n",
       "0               1           0         A/5 21171   7.2500    NaN        S  \n",
       "1               1           0          PC 17599  71.2833    C85        C  \n",
       "2               0           0  STON/O2. 3101282   7.9250    NaN        S  \n",
       "3               1           0            113803  53.1000   C123        S  \n",
       "4               0           0            373450   8.0500    NaN        S  \n",
       "..            ...         ...               ...      ...    ...      ...  \n",
       "886             0           0            211536  13.0000    NaN        S  \n",
       "887             0           0            112053  30.0000    B42        S  \n",
       "888             1           2        W./C. 6607  23.4500    NaN        S  \n",
       "889             0           0            111369  30.0000   C148        C  \n",
       "890             0           0            370376   7.7500    NaN        Q  \n",
       "\n",
       "[891 rows x 12 columns]>"
      ]
     },
     "execution_count": 49,
     "metadata": {},
     "output_type": "execute_result"
    }
   ],
   "source": [
    "data.sum"
   ]
  },
  {
   "cell_type": "markdown",
   "id": "0dedbb53",
   "metadata": {},
   "source": [
    "# Seleção de Dados por Posição\n",
    "\n",
    "## Seleção por Índice Numérico com iloc\n",
    "\n",
    "O `iloc[803]` utiliza **seleção baseada em posição**:\n",
    "- `iloc` significa \"integer location\" (localização inteira)\n",
    "- Seleciona a linha na **posição 803** (índice baseado em zero)\n",
    "- Retorna uma Series com todos os dados desse passageiro específico\n",
    "- Útil quando queremos acessar dados por posição numérica, não por rótulo\n",
    "- No contexto anterior, este pode ser o registro do passageiro mais velho (baseado no `idxmax()` anterior)"
   ]
  },
  {
   "cell_type": "code",
   "execution_count": 47,
   "id": "03ada77e",
   "metadata": {},
   "outputs": [
    {
     "data": {
      "text/plain": [
       "IdPassageiro                                804\n",
       "Sobreviventes                                 1\n",
       "Classe                                        3\n",
       "Nome             Thomas, Master Assad Alexander\n",
       "Sexo                                       male\n",
       "Idade                                      0.42\n",
       "IrmaoConjuge                                  0\n",
       "PaisFilhos                                    1\n",
       "Bilhete                                    2625\n",
       "Tarifa                                   8.5167\n",
       "Cabine                                      NaN\n",
       "Embarque                                      C\n",
       "Name: 803, dtype: object"
      ]
     },
     "execution_count": 47,
     "metadata": {},
     "output_type": "execute_result"
    }
   ],
   "source": [
    "data.iloc[803]"
   ]
  }
 ],
 "metadata": {
  "kernelspec": {
   "display_name": ".venv (3.13.7)",
   "language": "python",
   "name": "python3"
  },
  "language_info": {
   "codemirror_mode": {
    "name": "ipython",
    "version": 3
   },
   "file_extension": ".py",
   "mimetype": "text/x-python",
   "name": "python",
   "nbconvert_exporter": "python",
   "pygments_lexer": "ipython3",
   "version": "3.13.7"
  }
 },
 "nbformat": 4,
 "nbformat_minor": 5
}
