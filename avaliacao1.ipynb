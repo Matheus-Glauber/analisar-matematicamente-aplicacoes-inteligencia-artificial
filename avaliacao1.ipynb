{
 "cells": [
  {
   "cell_type": "markdown",
   "id": "2fa86588",
   "metadata": {},
   "source": [
    "# Avaliação I - Individual\n",
    "\n",
    "## Atividade - Introdução ao NumPy e Pandas\n",
    "\n",
    "## Questões\n",
    "\n",
    "1. Explique, com suas palavras, a diferença de *NumPy* e *Pandas*:\n",
    "\n",
    "R. Numpy é uma biblioteca que possui foco em **operações matemáticas** e **arrays multidimensionais** no *Python*. Muito utilizada para computação científica, análises estatísticas e etc. <br>\n",
    "Já o Pandas é uma biblioteca feita para **manipulação e análise de dados**, têm seu foco em dados estruturados como: *planilhas, csv's ou banco de dados*, é ideal para análise exploratória desses dados."
   ]
  },
  {
   "cell_type": "markdown",
   "id": "90d0715e",
   "metadata": {},
   "source": [
    "2. O que é um *DataFrame* e *series* no Pandas?\n",
    "\n",
    "R. \n",
    "- **Series**: Estrutura unidimensional do Pandas, semelhante a um vetor ou coluna de uma tabela. Cada elemento possui um índice, facilitando operações e acesso aos dados. Pode conter qualquer tipo de dado (números, textos, datas).\n",
    "\n",
    "- **DataFrame**: Estrutura bidimensional, semelhante a uma planilha ou tabela de banco de dados. Possui linhas e colunas, onde cada coluna é uma Series. Permite manipulação, análise, filtragem, agregação e visualização de dados de forma eficiente e intuitiva."
   ]
  },
  {
   "cell_type": "code",
   "execution_count": 3,
   "id": "86bbf2e7",
   "metadata": {},
   "outputs": [],
   "source": [
    "import numpy as np\n",
    "import pandas as pd"
   ]
  },
  {
   "cell_type": "markdown",
   "id": "8f18997b",
   "metadata": {},
   "source": [
    "3. Usando o Pandas, crie um DataFrame com os seguintes dados:\n",
    "\n",
    "| Nome   | Idade | Cidade     |\n",
    "|--------|-------|------------|\n",
    "| Ana    | 25    | SP         |\n",
    "| Bruno  | 30    | RJ         |\n",
    "| Carlos | 22    | MG         |"
   ]
  },
  {
   "cell_type": "code",
   "execution_count": 6,
   "id": "e38bc493",
   "metadata": {},
   "outputs": [
    {
     "data": {
      "text/html": [
       "<div>\n",
       "<style scoped>\n",
       "    .dataframe tbody tr th:only-of-type {\n",
       "        vertical-align: middle;\n",
       "    }\n",
       "\n",
       "    .dataframe tbody tr th {\n",
       "        vertical-align: top;\n",
       "    }\n",
       "\n",
       "    .dataframe thead th {\n",
       "        text-align: right;\n",
       "    }\n",
       "</style>\n",
       "<table border=\"1\" class=\"dataframe\">\n",
       "  <thead>\n",
       "    <tr style=\"text-align: right;\">\n",
       "      <th></th>\n",
       "      <th>nome</th>\n",
       "      <th>idade</th>\n",
       "      <th>cidade</th>\n",
       "    </tr>\n",
       "  </thead>\n",
       "  <tbody>\n",
       "    <tr>\n",
       "      <th>0</th>\n",
       "      <td>Ana</td>\n",
       "      <td>25</td>\n",
       "      <td>SP</td>\n",
       "    </tr>\n",
       "    <tr>\n",
       "      <th>1</th>\n",
       "      <td>Bruno</td>\n",
       "      <td>30</td>\n",
       "      <td>RJ</td>\n",
       "    </tr>\n",
       "    <tr>\n",
       "      <th>2</th>\n",
       "      <td>Carlos</td>\n",
       "      <td>22</td>\n",
       "      <td>MG</td>\n",
       "    </tr>\n",
       "  </tbody>\n",
       "</table>\n",
       "</div>"
      ],
      "text/plain": [
       "     nome  idade cidade\n",
       "0     Ana     25     SP\n",
       "1   Bruno     30     RJ\n",
       "2  Carlos     22     MG"
      ]
     },
     "execution_count": 6,
     "metadata": {},
     "output_type": "execute_result"
    }
   ],
   "source": [
    "## Dataframe a partir de um arquivo csv\n",
    "\n",
    "dataframe = pd.read_csv('data/pessoas.csv')\n",
    "dataframe.head(3)"
   ]
  },
  {
   "cell_type": "code",
   "execution_count": 7,
   "id": "d9117979",
   "metadata": {},
   "outputs": [
    {
     "data": {
      "text/html": [
       "<div>\n",
       "<style scoped>\n",
       "    .dataframe tbody tr th:only-of-type {\n",
       "        vertical-align: middle;\n",
       "    }\n",
       "\n",
       "    .dataframe tbody tr th {\n",
       "        vertical-align: top;\n",
       "    }\n",
       "\n",
       "    .dataframe thead th {\n",
       "        text-align: right;\n",
       "    }\n",
       "</style>\n",
       "<table border=\"1\" class=\"dataframe\">\n",
       "  <thead>\n",
       "    <tr style=\"text-align: right;\">\n",
       "      <th></th>\n",
       "      <th>nome</th>\n",
       "      <th>idade</th>\n",
       "      <th>cidade</th>\n",
       "    </tr>\n",
       "  </thead>\n",
       "  <tbody>\n",
       "    <tr>\n",
       "      <th>0</th>\n",
       "      <td>Ana</td>\n",
       "      <td>25</td>\n",
       "      <td>SP</td>\n",
       "    </tr>\n",
       "    <tr>\n",
       "      <th>1</th>\n",
       "      <td>Bruno</td>\n",
       "      <td>30</td>\n",
       "      <td>RJ</td>\n",
       "    </tr>\n",
       "    <tr>\n",
       "      <th>2</th>\n",
       "      <td>Carlos</td>\n",
       "      <td>22</td>\n",
       "      <td>MG</td>\n",
       "    </tr>\n",
       "  </tbody>\n",
       "</table>\n",
       "</div>"
      ],
      "text/plain": [
       "     nome  idade cidade\n",
       "0     Ana     25     SP\n",
       "1   Bruno     30     RJ\n",
       "2  Carlos     22     MG"
      ]
     },
     "execution_count": 7,
     "metadata": {},
     "output_type": "execute_result"
    }
   ],
   "source": [
    "## Dataframe a partir de um dicionário python (em memória)\n",
    "\n",
    "data = {\n",
    "    'nome': ['Ana', 'Bruno', 'Carlos'],\n",
    "    'idade': [25, 30, 22],\n",
    "    'cidade': ['SP', 'RJ', 'MG']\n",
    "}\n",
    "\n",
    "dataframe_inmemory = pd.DataFrame(data)\n",
    "dataframe_inmemory.head(3)"
   ]
  },
  {
   "cell_type": "markdown",
   "id": "2307b759",
   "metadata": {},
   "source": [
    "4. Usando o NumPy, crie um array com os valores [10, 20, 30, 40] e calcule a média desses números:"
   ]
  },
  {
   "cell_type": "code",
   "execution_count": 8,
   "id": "a9a3f8ad",
   "metadata": {},
   "outputs": [
    {
     "name": "stdout",
     "output_type": "stream",
     "text": [
      "25.0\n"
     ]
    }
   ],
   "source": [
    "mean = np.array([10, 20, 30, 40]).mean()\n",
    "print(mean)"
   ]
  }
 ],
 "metadata": {
  "kernelspec": {
   "display_name": ".venv (3.13.7)",
   "language": "python",
   "name": "python3"
  },
  "language_info": {
   "codemirror_mode": {
    "name": "ipython",
    "version": 3
   },
   "file_extension": ".py",
   "mimetype": "text/x-python",
   "name": "python",
   "nbconvert_exporter": "python",
   "pygments_lexer": "ipython3",
   "version": "3.13.7"
  }
 },
 "nbformat": 4,
 "nbformat_minor": 5
}
