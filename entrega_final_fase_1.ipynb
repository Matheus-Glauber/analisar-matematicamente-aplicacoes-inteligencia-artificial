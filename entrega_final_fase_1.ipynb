{
 "cells": [
  {
   "cell_type": "markdown",
   "id": "f14980e5",
   "metadata": {},
   "source": [
    "# Projeto em Grupo – Analisando os Dados do Titanic\n",
    "\n",
    "## Objetivo\n",
    "\n",
    "Explorar e analisar o conjunto de dados do Titanic utilizando as bibliotecas Pandas e NumPy, desenvolvendo habilidades práticas de manipulação e interpretação de dados.\n",
    "\n",
    "## Formação dos Grupos\n",
    "* Até 4 alunos por grupo.\n",
    "* Cada grupo deve dividir as tarefas: leitura dos dados, tratamento, análise e apresentação.\n",
    "\n",
    "## Etapas do Projeto\n"
   ]
  },
  {
   "cell_type": "markdown",
   "id": "e40550fc",
   "metadata": {},
   "source": [
    "## 1. Exploração Inicial\n",
    "* Carregar a planilha train.csv no Pandas;\n",
    "* Visualizar as primeiras linhas (head) e verificar as colunas disponíveis;\n",
    "* Identificar valores ausentes (.isnull().sum())."
   ]
  },
  {
   "cell_type": "code",
   "execution_count": 1,
   "id": "97b43c1f",
   "metadata": {},
   "outputs": [],
   "source": [
    "import pandas as pd\n",
    "import numpy as np"
   ]
  },
  {
   "cell_type": "code",
   "execution_count": 2,
   "id": "8228dd11",
   "metadata": {},
   "outputs": [
    {
     "data": {
      "text/html": [
       "<div>\n",
       "<style scoped>\n",
       "    .dataframe tbody tr th:only-of-type {\n",
       "        vertical-align: middle;\n",
       "    }\n",
       "\n",
       "    .dataframe tbody tr th {\n",
       "        vertical-align: top;\n",
       "    }\n",
       "\n",
       "    .dataframe thead th {\n",
       "        text-align: right;\n",
       "    }\n",
       "</style>\n",
       "<table border=\"1\" class=\"dataframe\">\n",
       "  <thead>\n",
       "    <tr style=\"text-align: right;\">\n",
       "      <th></th>\n",
       "      <th>PassengerId</th>\n",
       "      <th>Survived</th>\n",
       "      <th>Pclass</th>\n",
       "      <th>Name</th>\n",
       "      <th>Sex</th>\n",
       "      <th>Age</th>\n",
       "      <th>SibSp</th>\n",
       "      <th>Parch</th>\n",
       "      <th>Ticket</th>\n",
       "      <th>Fare</th>\n",
       "      <th>Cabin</th>\n",
       "      <th>Embarked</th>\n",
       "    </tr>\n",
       "  </thead>\n",
       "  <tbody>\n",
       "    <tr>\n",
       "      <th>0</th>\n",
       "      <td>1</td>\n",
       "      <td>0</td>\n",
       "      <td>3</td>\n",
       "      <td>Braund, Mr. Owen Harris</td>\n",
       "      <td>male</td>\n",
       "      <td>22.0</td>\n",
       "      <td>1</td>\n",
       "      <td>0</td>\n",
       "      <td>A/5 21171</td>\n",
       "      <td>7.2500</td>\n",
       "      <td>NaN</td>\n",
       "      <td>S</td>\n",
       "    </tr>\n",
       "    <tr>\n",
       "      <th>1</th>\n",
       "      <td>2</td>\n",
       "      <td>1</td>\n",
       "      <td>1</td>\n",
       "      <td>Cumings, Mrs. John Bradley (Florence Briggs Th...</td>\n",
       "      <td>female</td>\n",
       "      <td>38.0</td>\n",
       "      <td>1</td>\n",
       "      <td>0</td>\n",
       "      <td>PC 17599</td>\n",
       "      <td>71.2833</td>\n",
       "      <td>C85</td>\n",
       "      <td>C</td>\n",
       "    </tr>\n",
       "    <tr>\n",
       "      <th>2</th>\n",
       "      <td>3</td>\n",
       "      <td>1</td>\n",
       "      <td>3</td>\n",
       "      <td>Heikkinen, Miss. Laina</td>\n",
       "      <td>female</td>\n",
       "      <td>26.0</td>\n",
       "      <td>0</td>\n",
       "      <td>0</td>\n",
       "      <td>STON/O2. 3101282</td>\n",
       "      <td>7.9250</td>\n",
       "      <td>NaN</td>\n",
       "      <td>S</td>\n",
       "    </tr>\n",
       "  </tbody>\n",
       "</table>\n",
       "</div>"
      ],
      "text/plain": [
       "   PassengerId  Survived  Pclass  \\\n",
       "0            1         0       3   \n",
       "1            2         1       1   \n",
       "2            3         1       3   \n",
       "\n",
       "                                                Name     Sex   Age  SibSp  \\\n",
       "0                            Braund, Mr. Owen Harris    male  22.0      1   \n",
       "1  Cumings, Mrs. John Bradley (Florence Briggs Th...  female  38.0      1   \n",
       "2                             Heikkinen, Miss. Laina  female  26.0      0   \n",
       "\n",
       "   Parch            Ticket     Fare Cabin Embarked  \n",
       "0      0         A/5 21171   7.2500   NaN        S  \n",
       "1      0          PC 17599  71.2833   C85        C  \n",
       "2      0  STON/O2. 3101282   7.9250   NaN        S  "
      ]
     },
     "execution_count": 2,
     "metadata": {},
     "output_type": "execute_result"
    }
   ],
   "source": [
    "dataframe = pd.read_csv('data/train.csv')\n",
    "dataframe.head(3)"
   ]
  },
  {
   "cell_type": "code",
   "execution_count": 5,
   "id": "6587643f",
   "metadata": {},
   "outputs": [
    {
     "data": {
      "text/plain": [
       "Index(['PassengerId', 'Survived', 'Pclass', 'Name', 'Sex', 'Age', 'SibSp',\n",
       "       'Parch', 'Ticket', 'Fare', 'Cabin', 'Embarked'],\n",
       "      dtype='object')"
      ]
     },
     "execution_count": 5,
     "metadata": {},
     "output_type": "execute_result"
    }
   ],
   "source": [
    "dataframe.columns"
   ]
  },
  {
   "cell_type": "code",
   "execution_count": 6,
   "id": "8082d906",
   "metadata": {},
   "outputs": [
    {
     "data": {
      "text/plain": [
       "PassengerId      0\n",
       "Survived         0\n",
       "Pclass           0\n",
       "Name             0\n",
       "Sex              0\n",
       "Age            177\n",
       "SibSp            0\n",
       "Parch            0\n",
       "Ticket           0\n",
       "Fare             0\n",
       "Cabin          687\n",
       "Embarked         2\n",
       "dtype: int64"
      ]
     },
     "execution_count": 6,
     "metadata": {},
     "output_type": "execute_result"
    }
   ],
   "source": [
    "dataframe.isnull().sum()"
   ]
  },
  {
   "cell_type": "markdown",
   "id": "4e1465e7",
   "metadata": {},
   "source": [
    "## 2. Perguntas de Análise\n",
    "1. Qual a porcentagem de sobreviventes no Titanic?\n",
    "2. Houve diferença na taxa de sobrevivência entre homens e mulheres?\n",
    "3. Passageiros de classes diferentes (Pclass) tiveram chances diferentes de sobrevivência?\n",
    "4. Qual foi a média de idade dos sobreviventes e não sobreviventes?\n",
    "5. Qual porto de embarque (Embarked) teve mais passageiros?"
   ]
  },
  {
   "cell_type": "code",
   "execution_count": 8,
   "id": "2f7f3a18",
   "metadata": {},
   "outputs": [
    {
     "name": "stdout",
     "output_type": "stream",
     "text": [
      "Porcentagem de sobreviventes: 38.38\n"
     ]
    }
   ],
   "source": [
    "survivors_percent = dataframe['Survived'].mean() * 100\n",
    "print(f'Porcentagem de sobreviventes: {survivors_percent:.2f}')"
   ]
  },
  {
   "cell_type": "code",
   "execution_count": 17,
   "id": "c41ebd43",
   "metadata": {},
   "outputs": [
    {
     "name": "stdout",
     "output_type": "stream",
     "text": [
      "     Sexo  Taxa de Sobrevivência (%)\n",
      " feminino                      74.20\n",
      "masculino                      18.89\n"
     ]
    }
   ],
   "source": [
    "sex_survivors = dataframe.groupby('Sex')['Survived'].mean() * 100\n",
    "survivors_percent_groupBy_class = pd.DataFrame({\n",
    "    'Sexo': sex_survivors.index,\n",
    "    'Taxa de Sobrevivência (%)': sex_survivors.values.round(2) \n",
    "})\n",
    "survivors_percent_groupBy_class['Sexo'] = survivors_percent_groupBy_class['Sexo'].replace({'male': 'masculino', 'female': 'feminino'})\n",
    "\n",
    "print(survivors_percent_groupBy_class.to_string(index=False))"
   ]
  },
  {
   "cell_type": "code",
   "execution_count": null,
   "id": "9aa8db5d",
   "metadata": {},
   "outputs": [
    {
     "name": "stdout",
     "output_type": "stream",
     "text": [
      " Classe  Taxa de Sobrevivência (%)\n",
      "      1                      62.96\n",
      "      2                      47.28\n",
      "      3                      24.24\n"
     ]
    }
   ],
   "source": [
    "pclass_survivors = dataframe.groupby('Pclass')['Survived'].mean() * 100\n",
    "survivors_percent_groupBy_class = pd.DataFrame({\n",
    "    'Classe': pclass_survivors.index,\n",
    "    'Taxa de Sobrevivência (%)': pclass_survivors.values.round(2)\n",
    "})\n",
    "\n",
    "print(survivors_percent_groupBy_class.to_string(index=False))"
   ]
  },
  {
   "cell_type": "code",
   "execution_count": null,
   "id": "8c31f20f",
   "metadata": {},
   "outputs": [
    {
     "name": "stdout",
     "output_type": "stream",
     "text": [
      "Sobreviveu  Média de Idade\n",
      "   Faleceu            31.0\n",
      "Sobreviveu            28.0\n"
     ]
    }
   ],
   "source": [
    "ages_mean_survivors = dataframe.groupby('Survived')['Age'].mean()\n",
    "ages_mean_survivors_df = pd.DataFrame({\n",
    "    'Sobreviveu': ages_mean_survivors.index,\n",
    "    'Média de Idade': ages_mean_survivors.values.round(0)\n",
    "})\n",
    "\n",
    "ages_mean_survivors_df['Sobreviveu'] = ages_mean_survivors_df['Sobreviveu'].replace({0:'Faleceu', 1:'Sobreviveu'})\n",
    "\n",
    "print(ages_mean_survivors_df.to_string(index=False))"
   ]
  },
  {
   "cell_type": "code",
   "execution_count": 42,
   "id": "5a2d4755",
   "metadata": {},
   "outputs": [
    {
     "name": "stdout",
     "output_type": "stream",
     "text": [
      "       Local Do Embarque  Total de Embarques\n",
      "      Cherbourg - França                 168\n",
      "    Queenstown - Irlanda                  77\n",
      "Southampton - Inglaterra                 644\n",
      "------------------------------------------------\n",
      "Local que recebeu mais embarques no Titanic: Southampton - Inglaterra\n",
      "Local Do Embarque     Southampton - Inglaterra\n",
      "Total de Embarques                         644\n",
      "dtype: object\n"
     ]
    }
   ],
   "source": [
    "embarked_sum = dataframe.groupby('Embarked').size()\n",
    "embarked_sum_df = pd.DataFrame({\n",
    "    'Local Do Embarque': embarked_sum.index,\n",
    "    'Total de Embarques': embarked_sum.values\n",
    "})\n",
    "embarked_sum_df['Local Do Embarque'] = embarked_sum_df['Local Do Embarque'].replace(\n",
    "    {\n",
    "        'C':'Cherbourg - França', \n",
    "        'S':'Southampton - Inglaterra', \n",
    "        'Q':'Queenstown - Irlanda'\n",
    "    })\n",
    "print(embarked_sum_df.to_string(index=False))\n",
    "print('------------------------------------------------')\n",
    "print(f'Local que recebeu mais embarques no Titanic: {embarked_sum_df['Local Do Embarque'].max()}')\n",
    "print(embarked_sum_df.max())"
   ]
  }
 ],
 "metadata": {
  "kernelspec": {
   "display_name": ".venv (3.13.7)",
   "language": "python",
   "name": "python3"
  },
  "language_info": {
   "codemirror_mode": {
    "name": "ipython",
    "version": 3
   },
   "file_extension": ".py",
   "mimetype": "text/x-python",
   "name": "python",
   "nbconvert_exporter": "python",
   "pygments_lexer": "ipython3",
   "version": "3.13.7"
  }
 },
 "nbformat": 4,
 "nbformat_minor": 5
}
